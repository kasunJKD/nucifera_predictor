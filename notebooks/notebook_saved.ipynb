{
  "cells": [
    {
      "cell_type": "markdown",
      "metadata": {
        "colab_type": "text",
        "id": "view-in-github"
      },
      "source": [
        "<a href=\"https://colab.research.google.com/github/kasunJKD/nucifera_predictor/blob/main/notebook_saved.ipynb\" target=\"_parent\"><img src=\"https://colab.research.google.com/assets/colab-badge.svg\" alt=\"Open In Colab\"/></a>"
      ]
    },
    {
      "cell_type": "code",
      "execution_count": 2,
      "metadata": {
        "id": "kl9SJWss92Co"
      },
      "outputs": [
        {
          "ename": "ModuleNotFoundError",
          "evalue": "No module named 'tensorflow'",
          "output_type": "error",
          "traceback": [
            "\u001b[0;31m---------------------------------------------------------------------------\u001b[0m",
            "\u001b[0;31mModuleNotFoundError\u001b[0m                       Traceback (most recent call last)",
            "\u001b[0;32m/tmp/ipykernel_7039/2313893930.py\u001b[0m in \u001b[0;36m<module>\u001b[0;34m\u001b[0m\n\u001b[1;32m      1\u001b[0m \u001b[0;32mimport\u001b[0m \u001b[0mnumpy\u001b[0m \u001b[0;32mas\u001b[0m \u001b[0mnp\u001b[0m\u001b[0;34m\u001b[0m\u001b[0;34m\u001b[0m\u001b[0m\n\u001b[0;32m----> 2\u001b[0;31m \u001b[0;32mfrom\u001b[0m \u001b[0mtensorflow\u001b[0m\u001b[0;34m.\u001b[0m\u001b[0mkeras\u001b[0m\u001b[0;34m.\u001b[0m\u001b[0mmodels\u001b[0m \u001b[0;32mimport\u001b[0m \u001b[0mSequential\u001b[0m\u001b[0;34m\u001b[0m\u001b[0;34m\u001b[0m\u001b[0m\n\u001b[0m\u001b[1;32m      3\u001b[0m \u001b[0;32mfrom\u001b[0m \u001b[0mtensorflow\u001b[0m\u001b[0;34m.\u001b[0m\u001b[0mkeras\u001b[0m\u001b[0;34m.\u001b[0m\u001b[0mlayers\u001b[0m \u001b[0;32mimport\u001b[0m \u001b[0mLSTM\u001b[0m\u001b[0;34m,\u001b[0m \u001b[0mLeakyReLU\u001b[0m\u001b[0;34m\u001b[0m\u001b[0;34m\u001b[0m\u001b[0m\n\u001b[1;32m      4\u001b[0m \u001b[0;32mfrom\u001b[0m \u001b[0mtensorflow\u001b[0m\u001b[0;34m.\u001b[0m\u001b[0mkeras\u001b[0m\u001b[0;34m.\u001b[0m\u001b[0mlayers\u001b[0m \u001b[0;32mimport\u001b[0m \u001b[0mDense\u001b[0m\u001b[0;34m,\u001b[0m \u001b[0mDropout\u001b[0m\u001b[0;34m\u001b[0m\u001b[0;34m\u001b[0m\u001b[0m\n\u001b[1;32m      5\u001b[0m \u001b[0;32mimport\u001b[0m \u001b[0mpandas\u001b[0m \u001b[0;32mas\u001b[0m \u001b[0mpd\u001b[0m\u001b[0;34m\u001b[0m\u001b[0;34m\u001b[0m\u001b[0m\n",
            "\u001b[0;31mModuleNotFoundError\u001b[0m: No module named 'tensorflow'"
          ]
        }
      ],
      "source": [
        "import numpy as np\n",
        "from tensorflow.keras.models import Sequential\n",
        "from tensorflow.keras.layers import LSTM, LeakyReLU\n",
        "from tensorflow.keras.layers import Dense, Dropout\n",
        "import pandas as pd\n",
        "from matplotlib import pyplot as plt\n",
        "from sklearn.preprocessing import StandardScaler\n",
        "import seaborn as sns"
      ]
    },
    {
      "cell_type": "code",
      "execution_count": 119,
      "metadata": {
        "colab": {
          "base_uri": "https://localhost:8080/",
          "height": 424
        },
        "id": "-oCud5b6-sQ7",
        "outputId": "55d64585-4668-4871-c3c5-4412bb830cc8"
      },
      "outputs": [
        {
          "data": {
            "text/html": [
              "\n",
              "  <div id=\"df-5cd84c9e-70ec-46d3-beee-203b434818af\">\n",
              "    <div class=\"colab-df-container\">\n",
              "      <div>\n",
              "<style scoped>\n",
              "    .dataframe tbody tr th:only-of-type {\n",
              "        vertical-align: middle;\n",
              "    }\n",
              "\n",
              "    .dataframe tbody tr th {\n",
              "        vertical-align: top;\n",
              "    }\n",
              "\n",
              "    .dataframe thead th {\n",
              "        text-align: right;\n",
              "    }\n",
              "</style>\n",
              "<table border=\"1\" class=\"dataframe\">\n",
              "  <thead>\n",
              "    <tr style=\"text-align: right;\">\n",
              "      <th></th>\n",
              "      <th>Date</th>\n",
              "      <th>(Average Price)\\nRs./1000</th>\n",
              "      <th>Rainfall mm \\nKurunagala</th>\n",
              "      <th>Rainfall mm\\nPuththalam</th>\n",
              "      <th>Rainfall mm\\nColombo</th>\n",
              "      <th>Unnamed: 5</th>\n",
              "      <th>(Average Price)\\nNot rounded</th>\n",
              "    </tr>\n",
              "  </thead>\n",
              "  <tbody>\n",
              "    <tr>\n",
              "      <th>0</th>\n",
              "      <td>07/01/2023</td>\n",
              "      <td>82452</td>\n",
              "      <td>56.4</td>\n",
              "      <td>50.1</td>\n",
              "      <td>58.2</td>\n",
              "      <td>NaN</td>\n",
              "      <td>82452.00</td>\n",
              "    </tr>\n",
              "    <tr>\n",
              "      <th>1</th>\n",
              "      <td>14/01/2023</td>\n",
              "      <td>79037</td>\n",
              "      <td>56.4</td>\n",
              "      <td>50.1</td>\n",
              "      <td>58.2</td>\n",
              "      <td>NaN</td>\n",
              "      <td>79037.00</td>\n",
              "    </tr>\n",
              "    <tr>\n",
              "      <th>2</th>\n",
              "      <td>21/01/2023</td>\n",
              "      <td>84117</td>\n",
              "      <td>56.4</td>\n",
              "      <td>50.1</td>\n",
              "      <td>58.2</td>\n",
              "      <td>NaN</td>\n",
              "      <td>84117.00</td>\n",
              "    </tr>\n",
              "    <tr>\n",
              "      <th>3</th>\n",
              "      <td>28/01/2023</td>\n",
              "      <td>80812</td>\n",
              "      <td>56.4</td>\n",
              "      <td>50.1</td>\n",
              "      <td>58.2</td>\n",
              "      <td>NaN</td>\n",
              "      <td>80812.00</td>\n",
              "    </tr>\n",
              "    <tr>\n",
              "      <th>4</th>\n",
              "      <td>07/02/2023</td>\n",
              "      <td>75397</td>\n",
              "      <td>98.8</td>\n",
              "      <td>43.1</td>\n",
              "      <td>72.7</td>\n",
              "      <td>NaN</td>\n",
              "      <td>75396.69</td>\n",
              "    </tr>\n",
              "    <tr>\n",
              "      <th>...</th>\n",
              "      <td>...</td>\n",
              "      <td>...</td>\n",
              "      <td>...</td>\n",
              "      <td>...</td>\n",
              "      <td>...</td>\n",
              "      <td>...</td>\n",
              "      <td>...</td>\n",
              "    </tr>\n",
              "    <tr>\n",
              "      <th>219</th>\n",
              "      <td>28/11/2018</td>\n",
              "      <td>37000</td>\n",
              "      <td>350.4</td>\n",
              "      <td>205.5</td>\n",
              "      <td>420.7</td>\n",
              "      <td>NaN</td>\n",
              "      <td>37000.00</td>\n",
              "    </tr>\n",
              "    <tr>\n",
              "      <th>220</th>\n",
              "      <td>07/12/2018</td>\n",
              "      <td>36000</td>\n",
              "      <td>99.4</td>\n",
              "      <td>74.4</td>\n",
              "      <td>139.5</td>\n",
              "      <td>NaN</td>\n",
              "      <td>36000.00</td>\n",
              "    </tr>\n",
              "    <tr>\n",
              "      <th>221</th>\n",
              "      <td>14/12/2018</td>\n",
              "      <td>36000</td>\n",
              "      <td>99.4</td>\n",
              "      <td>74.4</td>\n",
              "      <td>139.5</td>\n",
              "      <td>NaN</td>\n",
              "      <td>36000.00</td>\n",
              "    </tr>\n",
              "    <tr>\n",
              "      <th>222</th>\n",
              "      <td>21/12/2018</td>\n",
              "      <td>36000</td>\n",
              "      <td>99.4</td>\n",
              "      <td>74.4</td>\n",
              "      <td>139.5</td>\n",
              "      <td>NaN</td>\n",
              "      <td>36000.00</td>\n",
              "    </tr>\n",
              "    <tr>\n",
              "      <th>223</th>\n",
              "      <td>28/12/2018</td>\n",
              "      <td>36000</td>\n",
              "      <td>99.4</td>\n",
              "      <td>74.4</td>\n",
              "      <td>139.5</td>\n",
              "      <td>NaN</td>\n",
              "      <td>36000.00</td>\n",
              "    </tr>\n",
              "  </tbody>\n",
              "</table>\n",
              "<p>224 rows × 7 columns</p>\n",
              "</div>\n",
              "      <button class=\"colab-df-convert\" onclick=\"convertToInteractive('df-5cd84c9e-70ec-46d3-beee-203b434818af')\"\n",
              "              title=\"Convert this dataframe to an interactive table.\"\n",
              "              style=\"display:none;\">\n",
              "        \n",
              "  <svg xmlns=\"http://www.w3.org/2000/svg\" height=\"24px\"viewBox=\"0 0 24 24\"\n",
              "       width=\"24px\">\n",
              "    <path d=\"M0 0h24v24H0V0z\" fill=\"none\"/>\n",
              "    <path d=\"M18.56 5.44l.94 2.06.94-2.06 2.06-.94-2.06-.94-.94-2.06-.94 2.06-2.06.94zm-11 1L8.5 8.5l.94-2.06 2.06-.94-2.06-.94L8.5 2.5l-.94 2.06-2.06.94zm10 10l.94 2.06.94-2.06 2.06-.94-2.06-.94-.94-2.06-.94 2.06-2.06.94z\"/><path d=\"M17.41 7.96l-1.37-1.37c-.4-.4-.92-.59-1.43-.59-.52 0-1.04.2-1.43.59L10.3 9.45l-7.72 7.72c-.78.78-.78 2.05 0 2.83L4 21.41c.39.39.9.59 1.41.59.51 0 1.02-.2 1.41-.59l7.78-7.78 2.81-2.81c.8-.78.8-2.07 0-2.86zM5.41 20L4 18.59l7.72-7.72 1.47 1.35L5.41 20z\"/>\n",
              "  </svg>\n",
              "      </button>\n",
              "      \n",
              "  <style>\n",
              "    .colab-df-container {\n",
              "      display:flex;\n",
              "      flex-wrap:wrap;\n",
              "      gap: 12px;\n",
              "    }\n",
              "\n",
              "    .colab-df-convert {\n",
              "      background-color: #E8F0FE;\n",
              "      border: none;\n",
              "      border-radius: 50%;\n",
              "      cursor: pointer;\n",
              "      display: none;\n",
              "      fill: #1967D2;\n",
              "      height: 32px;\n",
              "      padding: 0 0 0 0;\n",
              "      width: 32px;\n",
              "    }\n",
              "\n",
              "    .colab-df-convert:hover {\n",
              "      background-color: #E2EBFA;\n",
              "      box-shadow: 0px 1px 2px rgba(60, 64, 67, 0.3), 0px 1px 3px 1px rgba(60, 64, 67, 0.15);\n",
              "      fill: #174EA6;\n",
              "    }\n",
              "\n",
              "    [theme=dark] .colab-df-convert {\n",
              "      background-color: #3B4455;\n",
              "      fill: #D2E3FC;\n",
              "    }\n",
              "\n",
              "    [theme=dark] .colab-df-convert:hover {\n",
              "      background-color: #434B5C;\n",
              "      box-shadow: 0px 1px 3px 1px rgba(0, 0, 0, 0.15);\n",
              "      filter: drop-shadow(0px 1px 2px rgba(0, 0, 0, 0.3));\n",
              "      fill: #FFFFFF;\n",
              "    }\n",
              "  </style>\n",
              "\n",
              "      <script>\n",
              "        const buttonEl =\n",
              "          document.querySelector('#df-5cd84c9e-70ec-46d3-beee-203b434818af button.colab-df-convert');\n",
              "        buttonEl.style.display =\n",
              "          google.colab.kernel.accessAllowed ? 'block' : 'none';\n",
              "\n",
              "        async function convertToInteractive(key) {\n",
              "          const element = document.querySelector('#df-5cd84c9e-70ec-46d3-beee-203b434818af');\n",
              "          const dataTable =\n",
              "            await google.colab.kernel.invokeFunction('convertToInteractive',\n",
              "                                                     [key], {});\n",
              "          if (!dataTable) return;\n",
              "\n",
              "          const docLinkHtml = 'Like what you see? Visit the ' +\n",
              "            '<a target=\"_blank\" href=https://colab.research.google.com/notebooks/data_table.ipynb>data table notebook</a>'\n",
              "            + ' to learn more about interactive tables.';\n",
              "          element.innerHTML = '';\n",
              "          dataTable['output_type'] = 'display_data';\n",
              "          await google.colab.output.renderOutput(dataTable, element);\n",
              "          const docLink = document.createElement('div');\n",
              "          docLink.innerHTML = docLinkHtml;\n",
              "          element.appendChild(docLink);\n",
              "        }\n",
              "      </script>\n",
              "    </div>\n",
              "  </div>\n",
              "  "
            ],
            "text/plain": [
              "           Date  (Average Price)\\nRs./1000  Rainfall mm \\nKurunagala  \\\n",
              "0    07/01/2023                      82452                      56.4   \n",
              "1    14/01/2023                      79037                      56.4   \n",
              "2    21/01/2023                      84117                      56.4   \n",
              "3    28/01/2023                      80812                      56.4   \n",
              "4    07/02/2023                      75397                      98.8   \n",
              "..          ...                        ...                       ...   \n",
              "219  28/11/2018                      37000                     350.4   \n",
              "220  07/12/2018                      36000                      99.4   \n",
              "221  14/12/2018                      36000                      99.4   \n",
              "222  21/12/2018                      36000                      99.4   \n",
              "223  28/12/2018                      36000                      99.4   \n",
              "\n",
              "     Rainfall mm\\nPuththalam  Rainfall mm\\nColombo  Unnamed: 5  \\\n",
              "0                       50.1                  58.2         NaN   \n",
              "1                       50.1                  58.2         NaN   \n",
              "2                       50.1                  58.2         NaN   \n",
              "3                       50.1                  58.2         NaN   \n",
              "4                       43.1                  72.7         NaN   \n",
              "..                       ...                   ...         ...   \n",
              "219                    205.5                 420.7         NaN   \n",
              "220                     74.4                 139.5         NaN   \n",
              "221                     74.4                 139.5         NaN   \n",
              "222                     74.4                 139.5         NaN   \n",
              "223                     74.4                 139.5         NaN   \n",
              "\n",
              "     (Average Price)\\nNot rounded  \n",
              "0                        82452.00  \n",
              "1                        79037.00  \n",
              "2                        84117.00  \n",
              "3                        80812.00  \n",
              "4                        75396.69  \n",
              "..                            ...  \n",
              "219                      37000.00  \n",
              "220                      36000.00  \n",
              "221                      36000.00  \n",
              "222                      36000.00  \n",
              "223                      36000.00  \n",
              "\n",
              "[224 rows x 7 columns]"
            ]
          },
          "execution_count": 119,
          "metadata": {},
          "output_type": "execute_result"
        }
      ],
      "source": [
        "df = pd.read_csv('Cleaned data.csv',  thousands=',')\n",
        "df\n"
      ]
    },
    {
      "cell_type": "code",
      "execution_count": 120,
      "metadata": {
        "colab": {
          "base_uri": "https://localhost:8080/"
        },
        "id": "FMwNwlOQNrog",
        "outputId": "675d9d8f-bc59-4330-a3be-b3d27891107b"
      },
      "outputs": [
        {
          "data": {
            "text/plain": [
              "15    2023-04-28\n",
              "14    2023-04-21\n",
              "13    2023-04-14\n",
              "12    2023-04-07\n",
              "11    2023-03-28\n",
              "         ...    \n",
              "184   2018-03-07\n",
              "183   2018-02-28\n",
              "182   2018-02-21\n",
              "181   2018-02-14\n",
              "180   2018-02-07\n",
              "Name: Date, Length: 224, dtype: datetime64[ns]"
            ]
          },
          "execution_count": 120,
          "metadata": {},
          "output_type": "execute_result"
        }
      ],
      "source": [
        "td = pd.to_datetime(df['Date'], dayfirst=True)\n",
        "train_dates = td.sort_values(ascending=False)\n",
        "train_dates"
      ]
    },
    {
      "cell_type": "code",
      "execution_count": 121,
      "metadata": {
        "colab": {
          "base_uri": "https://localhost:8080/"
        },
        "id": "uEXnW9s4hSWe",
        "outputId": "e863c71b-f7ba-4a12-899c-5620ba46778d"
      },
      "outputs": [
        {
          "name": "stdout",
          "output_type": "stream",
          "text": [
            "['(Average Price)\\nRs./1000', 'Rainfall mm \\nKurunagala', 'Rainfall mm\\nPuththalam', 'Rainfall mm\\nColombo']\n"
          ]
        }
      ],
      "source": [
        "cols = list(df)[1:5]\n",
        "print(cols)\n",
        "df_for_training = df[cols].astype(float)"
      ]
    },
    {
      "cell_type": "code",
      "execution_count": 122,
      "metadata": {
        "id": "t6TAm9IKhsXj"
      },
      "outputs": [],
      "source": [
        "scaler = StandardScaler()\n",
        "scaler = scaler.fit(df_for_training)\n",
        "df_for_training_scaled = scaler.transform(df_for_training)"
      ]
    },
    {
      "cell_type": "code",
      "execution_count": 123,
      "metadata": {
        "id": "Rr0wf5SviTfV"
      },
      "outputs": [],
      "source": [
        "trainX = []\n",
        "trainY = []\n",
        "\n",
        "n_future = 1   # Number of weeks we want to look into the future based on the past weeks.\n",
        "n_past = 4  # Number of past weeks we want to use to predict the future."
      ]
    },
    {
      "cell_type": "code",
      "execution_count": 124,
      "metadata": {
        "colab": {
          "base_uri": "https://localhost:8080/"
        },
        "id": "3NhawZolmroT",
        "outputId": "1cc2f58a-ab32-4844-bfe9-eb5e54809650"
      },
      "outputs": [
        {
          "name": "stdout",
          "output_type": "stream",
          "text": [
            "trainX shape == (220, 4, 4).\n",
            "trainY shape == (220, 1).\n"
          ]
        }
      ],
      "source": [
        "#Reformat input data into a shape: (n_samples x timesteps x n_features)\n",
        "#In my example, my df_for_training_scaled has a shape (12823, 5)\n",
        "#12823 refers to the number of data points and 5 refers to the columns (multi-variables).\n",
        "for i in range(n_past, len(df_for_training_scaled) - n_future +1):\n",
        "    trainX.append(df_for_training_scaled[i - n_past:i, 0:df_for_training.shape[1]])\n",
        "    trainY.append(df_for_training_scaled[i + n_future - 1:i + n_future, 0])\n",
        "\n",
        "trainX, trainY = np.array(trainX), np.array(trainY)\n",
        "\n",
        "print('trainX shape == {}.'.format(trainX.shape))\n",
        "print('trainY shape == {}.'.format(trainY.shape))\n"
      ]
    },
    {
      "cell_type": "code",
      "execution_count": 125,
      "metadata": {
        "colab": {
          "base_uri": "https://localhost:8080/"
        },
        "id": "wXbXfEPRwapl",
        "outputId": "5cb2c98a-f1dd-4cc8-d019-741c5a4cb84c"
      },
      "outputs": [
        {
          "name": "stdout",
          "output_type": "stream",
          "text": [
            "Model: \"sequential_5\"\n",
            "_________________________________________________________________\n",
            " Layer (type)                Output Shape              Param #   \n",
            "=================================================================\n",
            " lstm_10 (LSTM)              (None, 4, 64)             17664     \n",
            "                                                                 \n",
            " lstm_11 (LSTM)              (None, 32)                12416     \n",
            "                                                                 \n",
            " dropout_5 (Dropout)         (None, 32)                0         \n",
            "                                                                 \n",
            " dense_5 (Dense)             (None, 1)                 33        \n",
            "                                                                 \n",
            "=================================================================\n",
            "Total params: 30,113\n",
            "Trainable params: 30,113\n",
            "Non-trainable params: 0\n",
            "_________________________________________________________________\n"
          ]
        }
      ],
      "source": [
        "# define the Autoencoder model\n",
        "\n",
        "model = Sequential()\n",
        "model.add(LSTM(64, activation='relu', input_shape=(trainX.shape[1], trainX.shape[2]), return_sequences=True))\n",
        "model.add(LSTM(32, activation='relu', return_sequences=False))\n",
        "model.add(Dropout(0.3))\n",
        "model.add(Dense(trainY.shape[1]))\n",
        "\n",
        "model.compile(optimizer='adam', loss='mse')\n",
        "model.summary()\n"
      ]
    },
    {
      "cell_type": "code",
      "execution_count": 126,
      "metadata": {
        "colab": {
          "base_uri": "https://localhost:8080/",
          "height": 1000
        },
        "id": "sJ_LcOLLwfhM",
        "outputId": "bf15cd29-80a6-497a-a942-1b966aea75a7"
      },
      "outputs": [
        {
          "name": "stdout",
          "output_type": "stream",
          "text": [
            "Epoch 1/50\n",
            "13/13 [==============================] - 4s 44ms/step - loss: 0.8755 - val_loss: 0.5706\n",
            "Epoch 2/50\n",
            "13/13 [==============================] - 0s 7ms/step - loss: 0.7457 - val_loss: 0.3872\n",
            "Epoch 3/50\n",
            "13/13 [==============================] - 0s 8ms/step - loss: 0.5456 - val_loss: 0.2767\n",
            "Epoch 4/50\n",
            "13/13 [==============================] - 0s 9ms/step - loss: 0.2715 - val_loss: 0.1572\n",
            "Epoch 5/50\n",
            "13/13 [==============================] - 0s 8ms/step - loss: 0.1776 - val_loss: 0.1104\n",
            "Epoch 6/50\n",
            "13/13 [==============================] - 0s 8ms/step - loss: 0.1694 - val_loss: 0.0663\n",
            "Epoch 7/50\n",
            "13/13 [==============================] - 0s 8ms/step - loss: 0.1545 - val_loss: 0.0742\n",
            "Epoch 8/50\n",
            "13/13 [==============================] - 0s 7ms/step - loss: 0.1530 - val_loss: 0.0559\n",
            "Epoch 9/50\n",
            "13/13 [==============================] - 0s 9ms/step - loss: 0.1553 - val_loss: 0.0274\n",
            "Epoch 10/50\n",
            "13/13 [==============================] - 0s 8ms/step - loss: 0.1426 - val_loss: 0.0690\n",
            "Epoch 11/50\n",
            "13/13 [==============================] - 0s 7ms/step - loss: 0.1445 - val_loss: 0.0241\n",
            "Epoch 12/50\n",
            "13/13 [==============================] - 0s 9ms/step - loss: 0.1594 - val_loss: 0.0823\n",
            "Epoch 13/50\n",
            "13/13 [==============================] - 0s 7ms/step - loss: 0.1440 - val_loss: 0.0321\n",
            "Epoch 14/50\n",
            "13/13 [==============================] - 0s 8ms/step - loss: 0.1342 - val_loss: 0.0464\n",
            "Epoch 15/50\n",
            "13/13 [==============================] - 0s 8ms/step - loss: 0.1246 - val_loss: 0.0424\n",
            "Epoch 16/50\n",
            "13/13 [==============================] - 0s 8ms/step - loss: 0.1238 - val_loss: 0.0438\n",
            "Epoch 17/50\n",
            "13/13 [==============================] - 0s 7ms/step - loss: 0.1403 - val_loss: 0.0356\n",
            "Epoch 18/50\n",
            "13/13 [==============================] - 0s 8ms/step - loss: 0.1359 - val_loss: 0.0426\n",
            "Epoch 19/50\n",
            "13/13 [==============================] - 0s 7ms/step - loss: 0.1144 - val_loss: 0.0646\n",
            "Epoch 20/50\n",
            "13/13 [==============================] - 0s 9ms/step - loss: 0.1255 - val_loss: 0.0258\n",
            "Epoch 21/50\n",
            "13/13 [==============================] - 0s 8ms/step - loss: 0.1386 - val_loss: 0.0540\n",
            "Epoch 22/50\n",
            "13/13 [==============================] - 0s 8ms/step - loss: 0.1293 - val_loss: 0.0503\n",
            "Epoch 23/50\n",
            "13/13 [==============================] - 0s 8ms/step - loss: 0.1280 - val_loss: 0.0457\n",
            "Epoch 24/50\n",
            "13/13 [==============================] - 0s 8ms/step - loss: 0.1141 - val_loss: 0.0471\n",
            "Epoch 25/50\n",
            "13/13 [==============================] - 0s 8ms/step - loss: 0.1154 - val_loss: 0.0546\n",
            "Epoch 26/50\n",
            "13/13 [==============================] - 0s 8ms/step - loss: 0.1329 - val_loss: 0.0707\n",
            "Epoch 27/50\n",
            "13/13 [==============================] - 0s 8ms/step - loss: 0.1225 - val_loss: 0.0349\n",
            "Epoch 28/50\n",
            "13/13 [==============================] - 0s 8ms/step - loss: 0.0998 - val_loss: 0.0350\n",
            "Epoch 29/50\n",
            "13/13 [==============================] - 0s 8ms/step - loss: 0.1132 - val_loss: 0.0499\n",
            "Epoch 30/50\n",
            "13/13 [==============================] - 0s 8ms/step - loss: 0.1032 - val_loss: 0.0514\n",
            "Epoch 31/50\n",
            "13/13 [==============================] - 0s 8ms/step - loss: 0.1122 - val_loss: 0.0461\n",
            "Epoch 32/50\n",
            "13/13 [==============================] - 0s 8ms/step - loss: 0.1380 - val_loss: 0.0682\n",
            "Epoch 33/50\n",
            "13/13 [==============================] - 0s 8ms/step - loss: 0.0947 - val_loss: 0.0283\n",
            "Epoch 34/50\n",
            "13/13 [==============================] - 0s 8ms/step - loss: 0.0992 - val_loss: 0.0992\n",
            "Epoch 35/50\n",
            "13/13 [==============================] - 0s 8ms/step - loss: 0.1033 - val_loss: 0.0443\n",
            "Epoch 36/50\n",
            "13/13 [==============================] - 0s 8ms/step - loss: 0.1197 - val_loss: 0.0828\n",
            "Epoch 37/50\n",
            "13/13 [==============================] - 0s 10ms/step - loss: 0.1144 - val_loss: 0.0319\n",
            "Epoch 38/50\n",
            "13/13 [==============================] - 0s 8ms/step - loss: 0.0910 - val_loss: 0.0489\n",
            "Epoch 39/50\n",
            "13/13 [==============================] - 0s 7ms/step - loss: 0.0967 - val_loss: 0.0612\n",
            "Epoch 40/50\n",
            "13/13 [==============================] - 0s 9ms/step - loss: 0.1021 - val_loss: 0.0248\n",
            "Epoch 41/50\n",
            "13/13 [==============================] - 0s 7ms/step - loss: 0.1035 - val_loss: 0.0620\n",
            "Epoch 42/50\n",
            "13/13 [==============================] - 0s 8ms/step - loss: 0.0881 - val_loss: 0.0372\n",
            "Epoch 43/50\n",
            "13/13 [==============================] - 0s 9ms/step - loss: 0.1025 - val_loss: 0.0810\n",
            "Epoch 44/50\n",
            "13/13 [==============================] - 0s 8ms/step - loss: 0.1033 - val_loss: 0.0340\n",
            "Epoch 45/50\n",
            "13/13 [==============================] - 0s 7ms/step - loss: 0.1097 - val_loss: 0.0592\n",
            "Epoch 46/50\n",
            "13/13 [==============================] - 0s 8ms/step - loss: 0.0911 - val_loss: 0.0752\n",
            "Epoch 47/50\n",
            "13/13 [==============================] - 0s 8ms/step - loss: 0.1073 - val_loss: 0.0528\n",
            "Epoch 48/50\n",
            "13/13 [==============================] - 0s 9ms/step - loss: 0.1056 - val_loss: 0.0656\n",
            "Epoch 49/50\n",
            "13/13 [==============================] - 0s 8ms/step - loss: 0.0909 - val_loss: 0.0185\n",
            "Epoch 50/50\n",
            "13/13 [==============================] - 0s 8ms/step - loss: 0.0858 - val_loss: 0.0678\n"
          ]
        },
        {
          "data": {
            "text/plain": [
              "<matplotlib.legend.Legend at 0x7fd7b039ef80>"
            ]
          },
          "execution_count": 126,
          "metadata": {},
          "output_type": "execute_result"
        },
        {
          "data": {
            "image/png": "[encoded data removed]",
            "text/plain": [
              "<Figure size 640x480 with 1 Axes>"
            ]
          },
          "metadata": {},
          "output_type": "display_data"
        }
      ],
      "source": [
        "# fit the model\n",
        "history = model.fit(trainX, trainY, epochs=50, batch_size=16, validation_split=0.1, verbose=1)\n",
        "\n",
        "plt.plot(history.history['loss'], label='Training loss')\n",
        "plt.plot(history.history['val_loss'], label='Validation loss')\n",
        "plt.legend()\n"
      ]
    },
    {
      "cell_type": "code",
      "execution_count": 127,
      "metadata": {
        "id": "T6VLHfEzwh6V"
      },
      "outputs": [],
      "source": [
        "from pandas.tseries.holiday import USFederalHolidayCalendar\n",
        "from pandas.tseries.offsets import CustomBusinessDay\n",
        "us_bd = CustomBusinessDay(calendar=USFederalHolidayCalendar())"
      ]
    },
    {
      "cell_type": "code",
      "execution_count": 128,
      "metadata": {
        "colab": {
          "base_uri": "https://localhost:8080/"
        },
        "id": "FDu3PMpqPVhr",
        "outputId": "6c839272-1a01-4776-c89e-438ddc3b84f2"
      },
      "outputs": [
        {
          "data": {
            "text/plain": [
              "[Timestamp('2018-07-29 00:00:00', freq='W-SUN'),\n",
              " Timestamp('2018-08-05 00:00:00', freq='W-SUN'),\n",
              " Timestamp('2018-08-12 00:00:00', freq='W-SUN'),\n",
              " Timestamp('2018-08-19 00:00:00', freq='W-SUN'),\n",
              " Timestamp('2018-08-26 00:00:00', freq='W-SUN'),\n",
              " Timestamp('2018-09-02 00:00:00', freq='W-SUN'),\n",
              " Timestamp('2018-09-09 00:00:00', freq='W-SUN'),\n",
              " Timestamp('2018-09-16 00:00:00', freq='W-SUN'),\n",
              " Timestamp('2018-09-23 00:00:00', freq='W-SUN'),\n",
              " Timestamp('2018-09-30 00:00:00', freq='W-SUN'),\n",
              " Timestamp('2018-10-07 00:00:00', freq='W-SUN'),\n",
              " Timestamp('2018-10-14 00:00:00', freq='W-SUN'),\n",
              " Timestamp('2018-10-21 00:00:00', freq='W-SUN'),\n",
              " Timestamp('2018-10-28 00:00:00', freq='W-SUN'),\n",
              " Timestamp('2018-11-04 00:00:00', freq='W-SUN'),\n",
              " Timestamp('2018-11-11 00:00:00', freq='W-SUN'),\n",
              " Timestamp('2018-11-18 00:00:00', freq='W-SUN'),\n",
              " Timestamp('2018-11-25 00:00:00', freq='W-SUN'),\n",
              " Timestamp('2018-12-02 00:00:00', freq='W-SUN'),\n",
              " Timestamp('2018-12-09 00:00:00', freq='W-SUN'),\n",
              " Timestamp('2018-12-16 00:00:00', freq='W-SUN'),\n",
              " Timestamp('2018-12-23 00:00:00', freq='W-SUN'),\n",
              " Timestamp('2018-12-30 00:00:00', freq='W-SUN'),\n",
              " Timestamp('2019-01-06 00:00:00', freq='W-SUN'),\n",
              " Timestamp('2019-01-13 00:00:00', freq='W-SUN'),\n",
              " Timestamp('2019-01-20 00:00:00', freq='W-SUN'),\n",
              " Timestamp('2019-01-27 00:00:00', freq='W-SUN'),\n",
              " Timestamp('2019-02-03 00:00:00', freq='W-SUN'),\n",
              " Timestamp('2019-02-10 00:00:00', freq='W-SUN'),\n",
              " Timestamp('2019-02-17 00:00:00', freq='W-SUN'),\n",
              " Timestamp('2019-02-24 00:00:00', freq='W-SUN'),\n",
              " Timestamp('2019-03-03 00:00:00', freq='W-SUN'),\n",
              " Timestamp('2019-03-10 00:00:00', freq='W-SUN'),\n",
              " Timestamp('2019-03-17 00:00:00', freq='W-SUN'),\n",
              " Timestamp('2019-03-24 00:00:00', freq='W-SUN'),\n",
              " Timestamp('2019-03-31 00:00:00', freq='W-SUN'),\n",
              " Timestamp('2019-04-07 00:00:00', freq='W-SUN'),\n",
              " Timestamp('2019-04-14 00:00:00', freq='W-SUN'),\n",
              " Timestamp('2019-04-21 00:00:00', freq='W-SUN'),\n",
              " Timestamp('2019-04-28 00:00:00', freq='W-SUN'),\n",
              " Timestamp('2019-05-05 00:00:00', freq='W-SUN'),\n",
              " Timestamp('2019-05-12 00:00:00', freq='W-SUN'),\n",
              " Timestamp('2019-05-19 00:00:00', freq='W-SUN'),\n",
              " Timestamp('2019-05-26 00:00:00', freq='W-SUN'),\n",
              " Timestamp('2019-06-02 00:00:00', freq='W-SUN'),\n",
              " Timestamp('2019-06-09 00:00:00', freq='W-SUN'),\n",
              " Timestamp('2019-06-16 00:00:00', freq='W-SUN'),\n",
              " Timestamp('2019-06-23 00:00:00', freq='W-SUN'),\n",
              " Timestamp('2019-06-30 00:00:00', freq='W-SUN'),\n",
              " Timestamp('2019-07-07 00:00:00', freq='W-SUN'),\n",
              " Timestamp('2019-07-14 00:00:00', freq='W-SUN'),\n",
              " Timestamp('2019-07-21 00:00:00', freq='W-SUN'),\n",
              " Timestamp('2019-07-28 00:00:00', freq='W-SUN'),\n",
              " Timestamp('2019-08-04 00:00:00', freq='W-SUN'),\n",
              " Timestamp('2019-08-11 00:00:00', freq='W-SUN'),\n",
              " Timestamp('2019-08-18 00:00:00', freq='W-SUN'),\n",
              " Timestamp('2019-08-25 00:00:00', freq='W-SUN'),\n",
              " Timestamp('2019-09-01 00:00:00', freq='W-SUN'),\n",
              " Timestamp('2019-09-08 00:00:00', freq='W-SUN'),\n",
              " Timestamp('2019-09-15 00:00:00', freq='W-SUN'),\n",
              " Timestamp('2019-09-22 00:00:00', freq='W-SUN'),\n",
              " Timestamp('2019-09-29 00:00:00', freq='W-SUN'),\n",
              " Timestamp('2019-10-06 00:00:00', freq='W-SUN'),\n",
              " Timestamp('2019-10-13 00:00:00', freq='W-SUN'),\n",
              " Timestamp('2019-10-20 00:00:00', freq='W-SUN'),\n",
              " Timestamp('2019-10-27 00:00:00', freq='W-SUN'),\n",
              " Timestamp('2019-11-03 00:00:00', freq='W-SUN'),\n",
              " Timestamp('2019-11-10 00:00:00', freq='W-SUN'),\n",
              " Timestamp('2019-11-17 00:00:00', freq='W-SUN'),\n",
              " Timestamp('2019-11-24 00:00:00', freq='W-SUN'),\n",
              " Timestamp('2019-12-01 00:00:00', freq='W-SUN'),\n",
              " Timestamp('2019-12-08 00:00:00', freq='W-SUN'),\n",
              " Timestamp('2019-12-15 00:00:00', freq='W-SUN'),\n",
              " Timestamp('2019-12-22 00:00:00', freq='W-SUN'),\n",
              " Timestamp('2019-12-29 00:00:00', freq='W-SUN'),\n",
              " Timestamp('2020-01-05 00:00:00', freq='W-SUN'),\n",
              " Timestamp('2020-01-12 00:00:00', freq='W-SUN'),\n",
              " Timestamp('2020-01-19 00:00:00', freq='W-SUN'),\n",
              " Timestamp('2020-01-26 00:00:00', freq='W-SUN'),\n",
              " Timestamp('2020-02-02 00:00:00', freq='W-SUN'),\n",
              " Timestamp('2020-02-09 00:00:00', freq='W-SUN'),\n",
              " Timestamp('2020-02-16 00:00:00', freq='W-SUN'),\n",
              " Timestamp('2020-02-23 00:00:00', freq='W-SUN'),\n",
              " Timestamp('2020-03-01 00:00:00', freq='W-SUN'),\n",
              " Timestamp('2020-03-08 00:00:00', freq='W-SUN'),\n",
              " Timestamp('2020-03-15 00:00:00', freq='W-SUN'),\n",
              " Timestamp('2020-03-22 00:00:00', freq='W-SUN'),\n",
              " Timestamp('2020-03-29 00:00:00', freq='W-SUN'),\n",
              " Timestamp('2020-04-05 00:00:00', freq='W-SUN'),\n",
              " Timestamp('2020-04-12 00:00:00', freq='W-SUN'),\n",
              " Timestamp('2020-04-19 00:00:00', freq='W-SUN'),\n",
              " Timestamp('2020-04-26 00:00:00', freq='W-SUN'),\n",
              " Timestamp('2020-05-03 00:00:00', freq='W-SUN'),\n",
              " Timestamp('2020-05-10 00:00:00', freq='W-SUN'),\n",
              " Timestamp('2020-05-17 00:00:00', freq='W-SUN'),\n",
              " Timestamp('2020-05-24 00:00:00', freq='W-SUN'),\n",
              " Timestamp('2020-05-31 00:00:00', freq='W-SUN'),\n",
              " Timestamp('2020-06-07 00:00:00', freq='W-SUN'),\n",
              " Timestamp('2020-06-14 00:00:00', freq='W-SUN'),\n",
              " Timestamp('2020-06-21 00:00:00', freq='W-SUN')]"
            ]
          },
          "execution_count": 128,
          "metadata": {},
          "output_type": "execute_result"
        }
      ],
      "source": [
        "n_past = 200\n",
        "n_weeks_for_prediction=100\n",
        "#prediction period should be from 2023 5 1 - 7- 14 - 21 - 27\n",
        "predict_period_dates = pd.date_range(list(train_dates)[n_past], periods=n_weeks_for_prediction, freq='W-SUN').tolist()\n",
        "predict_period_dates\n",
        "\n",
        "# import pandas as pd\n",
        "# from dateutil.relativedelta import relativedelta\n",
        "# from datetime import date\n",
        "\n",
        "# # Define the start and end dates\n",
        "# start_date = date.today()\n",
        "# end_date = start_date + relativedelta(months=1)\n",
        "\n",
        "# # # Convert start_date to a pandas Timestamp\n",
        "# # start_date = pd.Timestamp(start_date)\n",
        "\n",
        "# # # Adjust the start_date to the first day of the next month if it falls in the middle of a month\n",
        "# if start_date.day > 14:\n",
        "#     start_date = start_date + relativedelta(months=1)\n",
        "# else:\n",
        "#     start_date = start_date.replace(day=1)\n",
        "\n",
        "# # # Generate a range of dates from start to end\n",
        "# dates = pd.date_range(start=start_date, end=end_date, freq='D')\n",
        "\n",
        "# # # Create a DataFrame with the dates\n",
        "# datedf = pd.DataFrame({'Date': dates})\n",
        "\n",
        "# # Extract the year and month from the date\n",
        "# datedf['Year'] = datedf['Date'].dt.year\n",
        "# datedf['Month'] = datedf['Date'].dt.month\n",
        "\n",
        "# # # Group the dates by year and month\n",
        "# grouped = datedf.groupby(['Year', 'Month'])\n",
        "\n",
        "# # # Get the list of specific dates within the weeks of each month\n",
        "# dates_per_month = grouped.apply(lambda x: x[x['Date'].dt.day.isin([7, 14, 21, 27])]['Date'].tolist())\n",
        "\n",
        "# predict_period_dates = dates_per_month"
      ]
    },
    {
      "cell_type": "code",
      "execution_count": 129,
      "metadata": {
        "colab": {
          "base_uri": "https://localhost:8080/"
        },
        "id": "Q2LrG0ZcggvR",
        "outputId": "42ee949c-7acd-4303-f69f-e1d7fed3cd72"
      },
      "outputs": [
        {
          "name": "stdout",
          "output_type": "stream",
          "text": [
            "4/4 [==============================] - 0s 6ms/step\n"
          ]
        }
      ],
      "source": [
        "prediction = model.predict(trainX[:n_weeks_for_prediction])\n",
        " #shape = (n, 1) where n is the n_days_for_prediction"
      ]
    },
    {
      "cell_type": "code",
      "execution_count": 130,
      "metadata": {
        "colab": {
          "base_uri": "https://localhost:8080/"
        },
        "id": "rCItd5AQglT8",
        "outputId": "e6d805b9-d713-4ed6-ba99-673f7cdb00dd"
      },
      "outputs": [
        {
          "data": {
            "text/plain": [
              "array([78304.48 , 74134.14 , 72581.34 , 75562.23 , 78015.98 , 78406.59 ,\n",
              "       79714.07 , 80537.46 , 76748.79 , 73099.22 , 71463.65 , 68499.13 ,\n",
              "       67159.086, 63842.977, 60856.5  , 59647.55 , 58186.758, 55659.56 ,\n",
              "       54618.285, 55047.555, 56968.844, 57375.54 , 58617.992, 60537.508,\n",
              "       61198.24 , 57899.45 , 57796.145, 58048.285, 58733.4  , 57234.93 ,\n",
              "       55458.727, 52590.26 , 49703.695, 50957.902, 51590.277, 49796.266,\n",
              "       49337.008, 48640.74 , 49045.812, 53247.938, 57565.453, 59260.953,\n",
              "       60937.418, 61904.01 , 61701.54 , 60067.523, 58087.566, 56716.99 ,\n",
              "       55370.742, 56265.5  , 58061.47 , 60363.766, 63058.89 , 64094.715,\n",
              "       64791.73 , 65737.73 , 67741.83 , 72541.96 , 77952.26 , 77343.9  ,\n",
              "       66318.15 , 60549.15 , 57595.58 , 55958.375, 54696.   , 54047.055,\n",
              "       53943.562, 54682.74 , 56173.098, 56202.6  , 54933.246, 53707.117,\n",
              "       52910.33 , 52899.96 , 53592.156, 54190.73 , 54121.99 , 52730.883,\n",
              "       51538.477, 50868.273, 51882.082, 54227.176, 57599.285, 60524.86 ,\n",
              "       61805.902, 60806.82 , 58009.363, 56864.258, 57495.664, 59559.91 ,\n",
              "       60802.508, 59577.164, 50828.52 , 47504.22 , 45823.863, 45778.125,\n",
              "       46812.01 , 47244.426, 45749.13 , 45010.332], dtype=float32)"
            ]
          },
          "execution_count": 130,
          "metadata": {},
          "output_type": "execute_result"
        }
      ],
      "source": [
        "prediction_copies = np.repeat(prediction, df_for_training.shape[1], axis=-1)\n",
        "y_pred_future = scaler.inverse_transform(prediction_copies)[:,0]\n",
        "y_pred_future"
      ]
    },
    {
      "cell_type": "code",
      "execution_count": 131,
      "metadata": {
        "colab": {
          "base_uri": "https://localhost:8080/"
        },
        "id": "XplwhP07gre6",
        "outputId": "ba61fbb8-2342-4af9-b207-590f831f2879"
      },
      "outputs": [
        {
          "data": {
            "text/plain": [
              "[datetime.date(2018, 7, 29),\n",
              " datetime.date(2018, 8, 5),\n",
              " datetime.date(2018, 8, 12),\n",
              " datetime.date(2018, 8, 19),\n",
              " datetime.date(2018, 8, 26),\n",
              " datetime.date(2018, 9, 2),\n",
              " datetime.date(2018, 9, 9),\n",
              " datetime.date(2018, 9, 16),\n",
              " datetime.date(2018, 9, 23),\n",
              " datetime.date(2018, 9, 30),\n",
              " datetime.date(2018, 10, 7),\n",
              " datetime.date(2018, 10, 14),\n",
              " datetime.date(2018, 10, 21),\n",
              " datetime.date(2018, 10, 28),\n",
              " datetime.date(2018, 11, 4),\n",
              " datetime.date(2018, 11, 11),\n",
              " datetime.date(2018, 11, 18),\n",
              " datetime.date(2018, 11, 25),\n",
              " datetime.date(2018, 12, 2),\n",
              " datetime.date(2018, 12, 9),\n",
              " datetime.date(2018, 12, 16),\n",
              " datetime.date(2018, 12, 23),\n",
              " datetime.date(2018, 12, 30),\n",
              " datetime.date(2019, 1, 6),\n",
              " datetime.date(2019, 1, 13),\n",
              " datetime.date(2019, 1, 20),\n",
              " datetime.date(2019, 1, 27),\n",
              " datetime.date(2019, 2, 3),\n",
              " datetime.date(2019, 2, 10),\n",
              " datetime.date(2019, 2, 17),\n",
              " datetime.date(2019, 2, 24),\n",
              " datetime.date(2019, 3, 3),\n",
              " datetime.date(2019, 3, 10),\n",
              " datetime.date(2019, 3, 17),\n",
              " datetime.date(2019, 3, 24),\n",
              " datetime.date(2019, 3, 31),\n",
              " datetime.date(2019, 4, 7),\n",
              " datetime.date(2019, 4, 14),\n",
              " datetime.date(2019, 4, 21),\n",
              " datetime.date(2019, 4, 28),\n",
              " datetime.date(2019, 5, 5),\n",
              " datetime.date(2019, 5, 12),\n",
              " datetime.date(2019, 5, 19),\n",
              " datetime.date(2019, 5, 26),\n",
              " datetime.date(2019, 6, 2),\n",
              " datetime.date(2019, 6, 9),\n",
              " datetime.date(2019, 6, 16),\n",
              " datetime.date(2019, 6, 23),\n",
              " datetime.date(2019, 6, 30),\n",
              " datetime.date(2019, 7, 7),\n",
              " datetime.date(2019, 7, 14),\n",
              " datetime.date(2019, 7, 21),\n",
              " datetime.date(2019, 7, 28),\n",
              " datetime.date(2019, 8, 4),\n",
              " datetime.date(2019, 8, 11),\n",
              " datetime.date(2019, 8, 18),\n",
              " datetime.date(2019, 8, 25),\n",
              " datetime.date(2019, 9, 1),\n",
              " datetime.date(2019, 9, 8),\n",
              " datetime.date(2019, 9, 15),\n",
              " datetime.date(2019, 9, 22),\n",
              " datetime.date(2019, 9, 29),\n",
              " datetime.date(2019, 10, 6),\n",
              " datetime.date(2019, 10, 13),\n",
              " datetime.date(2019, 10, 20),\n",
              " datetime.date(2019, 10, 27),\n",
              " datetime.date(2019, 11, 3),\n",
              " datetime.date(2019, 11, 10),\n",
              " datetime.date(2019, 11, 17),\n",
              " datetime.date(2019, 11, 24),\n",
              " datetime.date(2019, 12, 1),\n",
              " datetime.date(2019, 12, 8),\n",
              " datetime.date(2019, 12, 15),\n",
              " datetime.date(2019, 12, 22),\n",
              " datetime.date(2019, 12, 29),\n",
              " datetime.date(2020, 1, 5),\n",
              " datetime.date(2020, 1, 12),\n",
              " datetime.date(2020, 1, 19),\n",
              " datetime.date(2020, 1, 26),\n",
              " datetime.date(2020, 2, 2),\n",
              " datetime.date(2020, 2, 9),\n",
              " datetime.date(2020, 2, 16),\n",
              " datetime.date(2020, 2, 23),\n",
              " datetime.date(2020, 3, 1),\n",
              " datetime.date(2020, 3, 8),\n",
              " datetime.date(2020, 3, 15),\n",
              " datetime.date(2020, 3, 22),\n",
              " datetime.date(2020, 3, 29),\n",
              " datetime.date(2020, 4, 5),\n",
              " datetime.date(2020, 4, 12),\n",
              " datetime.date(2020, 4, 19),\n",
              " datetime.date(2020, 4, 26),\n",
              " datetime.date(2020, 5, 3),\n",
              " datetime.date(2020, 5, 10),\n",
              " datetime.date(2020, 5, 17),\n",
              " datetime.date(2020, 5, 24),\n",
              " datetime.date(2020, 5, 31),\n",
              " datetime.date(2020, 6, 7),\n",
              " datetime.date(2020, 6, 14),\n",
              " datetime.date(2020, 6, 21)]"
            ]
          },
          "execution_count": 131,
          "metadata": {},
          "output_type": "execute_result"
        }
      ],
      "source": [
        "# Convert timestamp to date\n",
        "forecast_dates = []\n",
        "for time_i in predict_period_dates:\n",
        "    forecast_dates.append(time_i.date())\n",
        "\n",
        "df_forecast = pd.DataFrame({'Date':np.array(forecast_dates), '(Average Price)\\nRs./1000':y_pred_future})\n",
        "df_forecast['Date']=pd.to_datetime(df_forecast['Date'], dayfirst=True)\n",
        "\n",
        "forecast_dates"
      ]
    },
    {
      "cell_type": "code",
      "execution_count": 132,
      "metadata": {
        "colab": {
          "base_uri": "https://localhost:8080/",
          "height": 571
        },
        "id": "hH74Wg0Bgs6S",
        "outputId": "97fe99df-3f92-46ce-a2cd-01cbf72318d5"
      },
      "outputs": [
        {
          "name": "stderr",
          "output_type": "stream",
          "text": [
            "<ipython-input-132-9f83e6bad5e2>:3: SettingWithCopyWarning: \n",
            "A value is trying to be set on a copy of a slice from a DataFrame.\n",
            "Try using .loc[row_indexer,col_indexer] = value instead\n",
            "\n",
            "See the caveats in the documentation: https://pandas.pydata.org/pandas-docs/stable/user_guide/indexing.html#returning-a-view-versus-a-copy\n",
            "  original['Date']=pd.to_datetime(original['Date'], dayfirst=True)\n"
          ]
        },
        {
          "data": {
            "text/plain": [
              "<Axes: xlabel='Date', ylabel='(Average Price)\\nRs./1000'>"
            ]
          },
          "execution_count": 132,
          "metadata": {},
          "output_type": "execute_result"
        },
        {
          "data": {
            "image/png": "[encoded data removed]",
            "text/plain": [
              "<Figure size 640x480 with 1 Axes>"
            ]
          },
          "metadata": {},
          "output_type": "display_data"
        }
      ],
      "source": [
        "original = df[['Date', '(Average Price)\\nRs./1000']]\n",
        "original.head\n",
        "original['Date']=pd.to_datetime(original['Date'], dayfirst=True)\n",
        "original = original.loc[original['Date'] >= '07/05/2020']\n",
        "\n",
        "sns.lineplot(x=original['Date'], y=original['(Average Price)\\nRs./1000'])\n",
        "sns.lineplot(x=df_forecast['Date'], y=df_forecast['(Average Price)\\nRs./1000'])"
      ]
    }
  ],
  "metadata": {
    "colab": {
      "authorship_tag": "ABX9TyPIOj6mGEq7/Xcglgp8+BGs",
      "include_colab_link": true,
      "provenance": []
    },
    "kernelspec": {
      "display_name": "Python 3",
      "name": "python3"
    },
    "language_info": {
      "codemirror_mode": {
        "name": "ipython",
        "version": 3
      },
      "file_extension": ".py",
      "mimetype": "text/x-python",
      "name": "python",
      "nbconvert_exporter": "python",
      "pygments_lexer": "ipython3",
      "version": "3.10.6"
    }
  },
  "nbformat": 4,
  "nbformat_minor": 0
}
