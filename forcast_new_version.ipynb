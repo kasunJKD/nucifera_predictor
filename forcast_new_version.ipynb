{
  "nbformat": 4,
  "nbformat_minor": 0,
  "metadata": {
    "colab": {
      "provenance": [],
      "authorship_tag": "ABX9TyMtoPpB5vcKb3hxcQYXXpfp",
      "include_colab_link": true
    },
    "kernelspec": {
      "name": "python3",
      "display_name": "Python 3"
    },
    "language_info": {
      "name": "python"
    }
  },
  "cells": [
    {
      "cell_type": "markdown",
      "metadata": {
        "id": "view-in-github",
        "colab_type": "text"
      },
      "source": [
        "<a href=\"https://colab.research.google.com/github/kasunJKD/nucifera_predictor/blob/main/forcast_new_version.ipynb\" target=\"_parent\"><img src=\"https://colab.research.google.com/assets/colab-badge.svg\" alt=\"Open In Colab\"/></a>"
      ]
    },
    {
      "cell_type": "code",
      "execution_count": 115,
      "metadata": {
        "id": "kl9SJWss92Co"
      },
      "outputs": [],
      "source": [
        "import numpy as np\n",
        "from tensorflow.keras.models import Sequential\n",
        "from tensorflow.keras.layers import LSTM, LeakyReLU\n",
        "from tensorflow.keras.layers import Dense, Dropout\n",
        "import pandas as pd\n",
        "from matplotlib import pyplot as plt\n",
        "from sklearn.preprocessing import StandardScaler\n",
        "import seaborn as sns"
      ]
    },
    {
      "cell_type": "code",
      "source": [
        "df = pd.read_csv('Cleaned data.csv',  thousands=',')\n",
        "df\n"
      ],
      "metadata": {
        "id": "-oCud5b6-sQ7",
        "colab": {
          "base_uri": "https://localhost:8080/",
          "height": 424
        },
        "outputId": "94ce6f6c-5c65-4415-d2c2-f183eb389b34"
      },
      "execution_count": 116,
      "outputs": [
        {
          "output_type": "execute_result",
          "data": {
            "text/plain": [
              "           Date  (Average Price)\\nRs./1000  Rainfall mm \\nKurunagala  \\\n",
              "0    07/01/2023                      82452                      56.4   \n",
              "1    14/01/2023                      79037                      56.4   \n",
              "2    21/01/2023                      84117                      56.4   \n",
              "3    28/01/2023                      80812                      56.4   \n",
              "4    07/02/2023                      75397                      98.8   \n",
              "..          ...                        ...                       ...   \n",
              "219  28/11/2018                      37000                     350.4   \n",
              "220  07/12/2018                      36000                      99.4   \n",
              "221  14/12/2018                      36000                      99.4   \n",
              "222  21/12/2018                      36000                      99.4   \n",
              "223  28/12/2018                      36000                      99.4   \n",
              "\n",
              "     Rainfall mm\\nPuththalam  Rainfall mm\\nColombo  Unnamed: 5  \\\n",
              "0                       50.1                  58.2         NaN   \n",
              "1                       50.1                  58.2         NaN   \n",
              "2                       50.1                  58.2         NaN   \n",
              "3                       50.1                  58.2         NaN   \n",
              "4                       43.1                  72.7         NaN   \n",
              "..                       ...                   ...         ...   \n",
              "219                    205.5                 420.7         NaN   \n",
              "220                     74.4                 139.5         NaN   \n",
              "221                     74.4                 139.5         NaN   \n",
              "222                     74.4                 139.5         NaN   \n",
              "223                     74.4                 139.5         NaN   \n",
              "\n",
              "     (Average Price)\\nNot rounded  \n",
              "0                        82452.00  \n",
              "1                        79037.00  \n",
              "2                        84117.00  \n",
              "3                        80812.00  \n",
              "4                        75396.69  \n",
              "..                            ...  \n",
              "219                      37000.00  \n",
              "220                      36000.00  \n",
              "221                      36000.00  \n",
              "222                      36000.00  \n",
              "223                      36000.00  \n",
              "\n",
              "[224 rows x 7 columns]"
            ],
            "text/html": [
              "\n",
              "  <div id=\"df-ba331eea-fa7d-44d2-a077-e69bd463f749\">\n",
              "    <div class=\"colab-df-container\">\n",
              "      <div>\n",
              "<style scoped>\n",
              "    .dataframe tbody tr th:only-of-type {\n",
              "        vertical-align: middle;\n",
              "    }\n",
              "\n",
              "    .dataframe tbody tr th {\n",
              "        vertical-align: top;\n",
              "    }\n",
              "\n",
              "    .dataframe thead th {\n",
              "        text-align: right;\n",
              "    }\n",
              "</style>\n",
              "<table border=\"1\" class=\"dataframe\">\n",
              "  <thead>\n",
              "    <tr style=\"text-align: right;\">\n",
              "      <th></th>\n",
              "      <th>Date</th>\n",
              "      <th>(Average Price)\\nRs./1000</th>\n",
              "      <th>Rainfall mm \\nKurunagala</th>\n",
              "      <th>Rainfall mm\\nPuththalam</th>\n",
              "      <th>Rainfall mm\\nColombo</th>\n",
              "      <th>Unnamed: 5</th>\n",
              "      <th>(Average Price)\\nNot rounded</th>\n",
              "    </tr>\n",
              "  </thead>\n",
              "  <tbody>\n",
              "    <tr>\n",
              "      <th>0</th>\n",
              "      <td>07/01/2023</td>\n",
              "      <td>82452</td>\n",
              "      <td>56.4</td>\n",
              "      <td>50.1</td>\n",
              "      <td>58.2</td>\n",
              "      <td>NaN</td>\n",
              "      <td>82452.00</td>\n",
              "    </tr>\n",
              "    <tr>\n",
              "      <th>1</th>\n",
              "      <td>14/01/2023</td>\n",
              "      <td>79037</td>\n",
              "      <td>56.4</td>\n",
              "      <td>50.1</td>\n",
              "      <td>58.2</td>\n",
              "      <td>NaN</td>\n",
              "      <td>79037.00</td>\n",
              "    </tr>\n",
              "    <tr>\n",
              "      <th>2</th>\n",
              "      <td>21/01/2023</td>\n",
              "      <td>84117</td>\n",
              "      <td>56.4</td>\n",
              "      <td>50.1</td>\n",
              "      <td>58.2</td>\n",
              "      <td>NaN</td>\n",
              "      <td>84117.00</td>\n",
              "    </tr>\n",
              "    <tr>\n",
              "      <th>3</th>\n",
              "      <td>28/01/2023</td>\n",
              "      <td>80812</td>\n",
              "      <td>56.4</td>\n",
              "      <td>50.1</td>\n",
              "      <td>58.2</td>\n",
              "      <td>NaN</td>\n",
              "      <td>80812.00</td>\n",
              "    </tr>\n",
              "    <tr>\n",
              "      <th>4</th>\n",
              "      <td>07/02/2023</td>\n",
              "      <td>75397</td>\n",
              "      <td>98.8</td>\n",
              "      <td>43.1</td>\n",
              "      <td>72.7</td>\n",
              "      <td>NaN</td>\n",
              "      <td>75396.69</td>\n",
              "    </tr>\n",
              "    <tr>\n",
              "      <th>...</th>\n",
              "      <td>...</td>\n",
              "      <td>...</td>\n",
              "      <td>...</td>\n",
              "      <td>...</td>\n",
              "      <td>...</td>\n",
              "      <td>...</td>\n",
              "      <td>...</td>\n",
              "    </tr>\n",
              "    <tr>\n",
              "      <th>219</th>\n",
              "      <td>28/11/2018</td>\n",
              "      <td>37000</td>\n",
              "      <td>350.4</td>\n",
              "      <td>205.5</td>\n",
              "      <td>420.7</td>\n",
              "      <td>NaN</td>\n",
              "      <td>37000.00</td>\n",
              "    </tr>\n",
              "    <tr>\n",
              "      <th>220</th>\n",
              "      <td>07/12/2018</td>\n",
              "      <td>36000</td>\n",
              "      <td>99.4</td>\n",
              "      <td>74.4</td>\n",
              "      <td>139.5</td>\n",
              "      <td>NaN</td>\n",
              "      <td>36000.00</td>\n",
              "    </tr>\n",
              "    <tr>\n",
              "      <th>221</th>\n",
              "      <td>14/12/2018</td>\n",
              "      <td>36000</td>\n",
              "      <td>99.4</td>\n",
              "      <td>74.4</td>\n",
              "      <td>139.5</td>\n",
              "      <td>NaN</td>\n",
              "      <td>36000.00</td>\n",
              "    </tr>\n",
              "    <tr>\n",
              "      <th>222</th>\n",
              "      <td>21/12/2018</td>\n",
              "      <td>36000</td>\n",
              "      <td>99.4</td>\n",
              "      <td>74.4</td>\n",
              "      <td>139.5</td>\n",
              "      <td>NaN</td>\n",
              "      <td>36000.00</td>\n",
              "    </tr>\n",
              "    <tr>\n",
              "      <th>223</th>\n",
              "      <td>28/12/2018</td>\n",
              "      <td>36000</td>\n",
              "      <td>99.4</td>\n",
              "      <td>74.4</td>\n",
              "      <td>139.5</td>\n",
              "      <td>NaN</td>\n",
              "      <td>36000.00</td>\n",
              "    </tr>\n",
              "  </tbody>\n",
              "</table>\n",
              "<p>224 rows × 7 columns</p>\n",
              "</div>\n",
              "      <button class=\"colab-df-convert\" onclick=\"convertToInteractive('df-ba331eea-fa7d-44d2-a077-e69bd463f749')\"\n",
              "              title=\"Convert this dataframe to an interactive table.\"\n",
              "              style=\"display:none;\">\n",
              "        \n",
              "  <svg xmlns=\"http://www.w3.org/2000/svg\" height=\"24px\"viewBox=\"0 0 24 24\"\n",
              "       width=\"24px\">\n",
              "    <path d=\"M0 0h24v24H0V0z\" fill=\"none\"/>\n",
              "    <path d=\"M18.56 5.44l.94 2.06.94-2.06 2.06-.94-2.06-.94-.94-2.06-.94 2.06-2.06.94zm-11 1L8.5 8.5l.94-2.06 2.06-.94-2.06-.94L8.5 2.5l-.94 2.06-2.06.94zm10 10l.94 2.06.94-2.06 2.06-.94-2.06-.94-.94-2.06-.94 2.06-2.06.94z\"/><path d=\"M17.41 7.96l-1.37-1.37c-.4-.4-.92-.59-1.43-.59-.52 0-1.04.2-1.43.59L10.3 9.45l-7.72 7.72c-.78.78-.78 2.05 0 2.83L4 21.41c.39.39.9.59 1.41.59.51 0 1.02-.2 1.41-.59l7.78-7.78 2.81-2.81c.8-.78.8-2.07 0-2.86zM5.41 20L4 18.59l7.72-7.72 1.47 1.35L5.41 20z\"/>\n",
              "  </svg>\n",
              "      </button>\n",
              "      \n",
              "  <style>\n",
              "    .colab-df-container {\n",
              "      display:flex;\n",
              "      flex-wrap:wrap;\n",
              "      gap: 12px;\n",
              "    }\n",
              "\n",
              "    .colab-df-convert {\n",
              "      background-color: #E8F0FE;\n",
              "      border: none;\n",
              "      border-radius: 50%;\n",
              "      cursor: pointer;\n",
              "      display: none;\n",
              "      fill: #1967D2;\n",
              "      height: 32px;\n",
              "      padding: 0 0 0 0;\n",
              "      width: 32px;\n",
              "    }\n",
              "\n",
              "    .colab-df-convert:hover {\n",
              "      background-color: #E2EBFA;\n",
              "      box-shadow: 0px 1px 2px rgba(60, 64, 67, 0.3), 0px 1px 3px 1px rgba(60, 64, 67, 0.15);\n",
              "      fill: #174EA6;\n",
              "    }\n",
              "\n",
              "    [theme=dark] .colab-df-convert {\n",
              "      background-color: #3B4455;\n",
              "      fill: #D2E3FC;\n",
              "    }\n",
              "\n",
              "    [theme=dark] .colab-df-convert:hover {\n",
              "      background-color: #434B5C;\n",
              "      box-shadow: 0px 1px 3px 1px rgba(0, 0, 0, 0.15);\n",
              "      filter: drop-shadow(0px 1px 2px rgba(0, 0, 0, 0.3));\n",
              "      fill: #FFFFFF;\n",
              "    }\n",
              "  </style>\n",
              "\n",
              "      <script>\n",
              "        const buttonEl =\n",
              "          document.querySelector('#df-ba331eea-fa7d-44d2-a077-e69bd463f749 button.colab-df-convert');\n",
              "        buttonEl.style.display =\n",
              "          google.colab.kernel.accessAllowed ? 'block' : 'none';\n",
              "\n",
              "        async function convertToInteractive(key) {\n",
              "          const element = document.querySelector('#df-ba331eea-fa7d-44d2-a077-e69bd463f749');\n",
              "          const dataTable =\n",
              "            await google.colab.kernel.invokeFunction('convertToInteractive',\n",
              "                                                     [key], {});\n",
              "          if (!dataTable) return;\n",
              "\n",
              "          const docLinkHtml = 'Like what you see? Visit the ' +\n",
              "            '<a target=\"_blank\" href=https://colab.research.google.com/notebooks/data_table.ipynb>data table notebook</a>'\n",
              "            + ' to learn more about interactive tables.';\n",
              "          element.innerHTML = '';\n",
              "          dataTable['output_type'] = 'display_data';\n",
              "          await google.colab.output.renderOutput(dataTable, element);\n",
              "          const docLink = document.createElement('div');\n",
              "          docLink.innerHTML = docLinkHtml;\n",
              "          element.appendChild(docLink);\n",
              "        }\n",
              "      </script>\n",
              "    </div>\n",
              "  </div>\n",
              "  "
            ]
          },
          "metadata": {},
          "execution_count": 116
        }
      ]
    },
    {
      "cell_type": "code",
      "source": [
        "td = pd.to_datetime(df['Date'], dayfirst=True)\n",
        "train_dates = td.sort_values(ascending=False)\n",
        "train_dates"
      ],
      "metadata": {
        "id": "FMwNwlOQNrog",
        "colab": {
          "base_uri": "https://localhost:8080/"
        },
        "outputId": "6bbe20d7-03dd-45a4-b07a-5a5327a3683a"
      },
      "execution_count": 117,
      "outputs": [
        {
          "output_type": "execute_result",
          "data": {
            "text/plain": [
              "15    2023-04-28\n",
              "14    2023-04-21\n",
              "13    2023-04-14\n",
              "12    2023-04-07\n",
              "11    2023-03-28\n",
              "         ...    \n",
              "184   2018-03-07\n",
              "183   2018-02-28\n",
              "182   2018-02-21\n",
              "181   2018-02-14\n",
              "180   2018-02-07\n",
              "Name: Date, Length: 224, dtype: datetime64[ns]"
            ]
          },
          "metadata": {},
          "execution_count": 117
        }
      ]
    },
    {
      "cell_type": "code",
      "source": [
        "cols = list(df)[1:5]\n",
        "print(cols)\n",
        "df_for_training = df[cols].astype(float)"
      ],
      "metadata": {
        "colab": {
          "base_uri": "https://localhost:8080/"
        },
        "id": "uEXnW9s4hSWe",
        "outputId": "3a305607-af68-49b4-92c5-8cfb8fbc4bdf"
      },
      "execution_count": 118,
      "outputs": [
        {
          "output_type": "stream",
          "name": "stdout",
          "text": [
            "['(Average Price)\\nRs./1000', 'Rainfall mm \\nKurunagala', 'Rainfall mm\\nPuththalam', 'Rainfall mm\\nColombo']\n"
          ]
        }
      ]
    },
    {
      "cell_type": "code",
      "source": [
        "scaler = StandardScaler()\n",
        "scaler = scaler.fit(df_for_training)\n",
        "df_for_training_scaled = scaler.transform(df_for_training)"
      ],
      "metadata": {
        "id": "t6TAm9IKhsXj"
      },
      "execution_count": 119,
      "outputs": []
    },
    {
      "cell_type": "code",
      "source": [
        "trainX = []\n",
        "trainY = []\n",
        "\n",
        "n_future = 4   # Number of weeks we want to look into the future based on the past weeks.\n",
        "n_past = 20  # Number of past weeks we want to use to predict the future."
      ],
      "metadata": {
        "id": "Rr0wf5SviTfV"
      },
      "execution_count": 120,
      "outputs": []
    },
    {
      "cell_type": "code",
      "source": [
        "#Reformat input data into a shape: (n_samples x timesteps x n_features)\n",
        "#In my example, my df_for_training_scaled has a shape (12823, 5)\n",
        "#12823 refers to the number of data points and 5 refers to the columns (multi-variables).\n",
        "for i in range(n_past, len(df_for_training_scaled) - n_future +1):\n",
        "    trainX.append(df_for_training_scaled[i - n_past:i, 0:df_for_training.shape[1]])\n",
        "    trainY.append(df_for_training_scaled[i + n_future - 1:i + n_future, 0])\n",
        "\n",
        "trainX, trainY = np.array(trainX), np.array(trainY)\n",
        "\n",
        "print('trainX shape == {}.'.format(trainX.shape))\n",
        "print('trainY shape == {}.'.format(trainY.shape))\n"
      ],
      "metadata": {
        "colab": {
          "base_uri": "https://localhost:8080/"
        },
        "id": "3NhawZolmroT",
        "outputId": "05321f36-bd8e-4f61-f03a-f6e09cf6efbf"
      },
      "execution_count": 121,
      "outputs": [
        {
          "output_type": "stream",
          "name": "stdout",
          "text": [
            "trainX shape == (201, 20, 4).\n",
            "trainY shape == (201, 1).\n"
          ]
        }
      ]
    },
    {
      "cell_type": "code",
      "source": [
        "# define the Autoencoder model\n",
        "\n",
        "model = Sequential()\n",
        "model.add(LSTM(64, activation='relu', input_shape=(trainX.shape[1], trainX.shape[2]), return_sequences=True))\n",
        "model.add(LSTM(32, activation='relu', return_sequences=False))\n",
        "model.add(Dropout(0.3))\n",
        "model.add(Dense(trainY.shape[1]))\n",
        "\n",
        "model.compile(optimizer='adam', loss='mse')\n",
        "model.summary()\n"
      ],
      "metadata": {
        "colab": {
          "base_uri": "https://localhost:8080/"
        },
        "id": "wXbXfEPRwapl",
        "outputId": "bcbcf1d4-3157-4bb4-9a61-fa9194f9cbc7"
      },
      "execution_count": 122,
      "outputs": [
        {
          "output_type": "stream",
          "name": "stdout",
          "text": [
            "Model: \"sequential_7\"\n",
            "_________________________________________________________________\n",
            " Layer (type)                Output Shape              Param #   \n",
            "=================================================================\n",
            " lstm_14 (LSTM)              (None, 20, 64)            17664     \n",
            "                                                                 \n",
            " lstm_15 (LSTM)              (None, 32)                12416     \n",
            "                                                                 \n",
            " dropout_7 (Dropout)         (None, 32)                0         \n",
            "                                                                 \n",
            " dense_7 (Dense)             (None, 1)                 33        \n",
            "                                                                 \n",
            "=================================================================\n",
            "Total params: 30,113\n",
            "Trainable params: 30,113\n",
            "Non-trainable params: 0\n",
            "_________________________________________________________________\n"
          ]
        }
      ]
    },
    {
      "cell_type": "code",
      "source": [
        "# fit the model\n",
        "history = model.fit(trainX, trainY, epochs=5, batch_size=16, validation_split=0.1, verbose=1)\n",
        "\n",
        "plt.plot(history.history['loss'], label='Training loss')\n",
        "plt.plot(history.history['val_loss'], label='Validation loss')\n",
        "plt.legend()\n"
      ],
      "metadata": {
        "colab": {
          "base_uri": "https://localhost:8080/",
          "height": 621
        },
        "id": "sJ_LcOLLwfhM",
        "outputId": "8ebeb387-1b8b-4799-84be-09968299ec52"
      },
      "execution_count": 123,
      "outputs": [
        {
          "output_type": "stream",
          "name": "stdout",
          "text": [
            "Epoch 1/5\n",
            "12/12 [==============================] - 4s 72ms/step - loss: 0.6207 - val_loss: 0.3083\n",
            "Epoch 2/5\n",
            "12/12 [==============================] - 0s 31ms/step - loss: 0.3847 - val_loss: 0.1414\n",
            "Epoch 3/5\n",
            "12/12 [==============================] - 0s 33ms/step - loss: 0.3144 - val_loss: 0.1675\n",
            "Epoch 4/5\n",
            "12/12 [==============================] - 0s 33ms/step - loss: 0.2901 - val_loss: 0.1250\n",
            "Epoch 5/5\n",
            "12/12 [==============================] - 0s 32ms/step - loss: 0.2903 - val_loss: 0.1348\n"
          ]
        },
        {
          "output_type": "execute_result",
          "data": {
            "text/plain": [
              "<matplotlib.legend.Legend at 0x7ff47cd335b0>"
            ]
          },
          "metadata": {},
          "execution_count": 123
        },
        {
          "output_type": "display_data",
          "data": {
            "text/plain": [
              "<Figure size 640x480 with 1 Axes>"
            ],
            "image/png": "[encoded data removed]"
          },
          "metadata": {}
        }
      ]
    },
    {
      "cell_type": "code",
      "source": [
        "from pandas.tseries.holiday import USFederalHolidayCalendar\n",
        "from pandas.tseries.offsets import CustomBusinessDay\n",
        "us_bd = CustomBusinessDay(calendar=USFederalHolidayCalendar())"
      ],
      "metadata": {
        "id": "T6VLHfEzwh6V"
      },
      "execution_count": 124,
      "outputs": []
    },
    {
      "cell_type": "code",
      "source": [
        "n_past = 1\n",
        "n_weeks_for_prediction=4\n",
        "#prediction period should be from 2023 5 1 - 7- 14 - 21 - 27\n",
        "predict_period_dates = pd.date_range(list(train_dates)[n_past], periods=n_weeks_for_prediction, freq='W-SUN').tolist()\n",
        "predict_period_dates\n",
        "\n",
        "# import pandas as pd\n",
        "# from dateutil.relativedelta import relativedelta\n",
        "\n",
        "# # Define the start and end dates\n",
        "# start_date = '2023-06-15'\n",
        "# end_date = '2023-12-31'\n",
        "\n",
        "# # Convert start_date to a pandas Timestamp\n",
        "# start_date = pd.Timestamp(start_date)\n",
        "\n",
        "# # Adjust the start_date to the first day of the next month if it falls in the middle of a month\n",
        "# if start_date.day > 1:\n",
        "#     start_date = start_date + relativedelta(day=1, months=1)\n",
        "\n",
        "# # Generate a range of dates from start to end\n",
        "# dates = pd.date_range(start=start_date, end=end_date, freq='D')\n",
        "\n",
        "# # Create a DataFrame with the dates\n",
        "# df = pd.DataFrame({'Date': dates})\n",
        "\n",
        "# # Extract the year and month from the date\n",
        "# df['Year'] = df['Date'].dt.year\n",
        "# df['Month'] = df['Date'].dt.month\n",
        "\n",
        "# # Group the dates by year and month\n",
        "# grouped = df.groupby(['Year', 'Month'])\n",
        "\n",
        "# # Get the list of specific dates within the weeks of each month\n",
        "# dates_per_month = grouped.apply(lambda x: x[x['Date'].dt.day.isin([7, 14, 21, 27])]['Date'].tolist())\n",
        "\n",
        "# print(dates_per_month)"
      ],
      "metadata": {
        "colab": {
          "base_uri": "https://localhost:8080/"
        },
        "id": "FDu3PMpqPVhr",
        "outputId": "e7c6e163-ac11-43e7-beb4-2a550a3ea1c0"
      },
      "execution_count": 125,
      "outputs": [
        {
          "output_type": "execute_result",
          "data": {
            "text/plain": [
              "[Timestamp('2022-07-03 00:00:00', freq='W-SUN'),\n",
              " Timestamp('2022-07-10 00:00:00', freq='W-SUN'),\n",
              " Timestamp('2022-07-17 00:00:00', freq='W-SUN'),\n",
              " Timestamp('2022-07-24 00:00:00', freq='W-SUN')]"
            ]
          },
          "metadata": {},
          "execution_count": 125
        }
      ]
    },
    {
      "cell_type": "code",
      "source": [
        "prediction = model.predict(trainX[-n_weeks_for_prediction:]) #shape = (n, 1) where n is the n_days_for_prediction"
      ],
      "metadata": {
        "colab": {
          "base_uri": "https://localhost:8080/"
        },
        "id": "Q2LrG0ZcggvR",
        "outputId": "8dbd816d-72ca-4af8-e4a5-04e499fcbfd0"
      },
      "execution_count": 126,
      "outputs": [
        {
          "output_type": "stream",
          "name": "stdout",
          "text": [
            "1/1 [==============================] - 0s 384ms/step\n"
          ]
        }
      ]
    },
    {
      "cell_type": "code",
      "source": [
        "prediction_copies = np.repeat(prediction, df_for_training.shape[1], axis=-1)\n",
        "y_pred_future = scaler.inverse_transform(prediction_copies)[:,0]\n",
        "y_pred_future"
      ],
      "metadata": {
        "id": "rCItd5AQglT8",
        "colab": {
          "base_uri": "https://localhost:8080/"
        },
        "outputId": "cefafe8f-12a7-45e7-b8ac-0a1ec8804a75"
      },
      "execution_count": 127,
      "outputs": [
        {
          "output_type": "execute_result",
          "data": {
            "text/plain": [
              "array([39940.74 , 41086.45 , 42068.07 , 42910.605], dtype=float32)"
            ]
          },
          "metadata": {},
          "execution_count": 127
        }
      ]
    },
    {
      "cell_type": "code",
      "source": [
        "# Convert timestamp to date\n",
        "forecast_dates = []\n",
        "for time_i in predict_period_dates:\n",
        "    forecast_dates.append(time_i.date())\n",
        "\n",
        "df_forecast = pd.DataFrame({'Date':np.array(forecast_dates), '(Average Price)\\nRs./1000':y_pred_future})\n",
        "df_forecast['Date']=pd.to_datetime(df_forecast['Date'], dayfirst=True)"
      ],
      "metadata": {
        "id": "XplwhP07gre6"
      },
      "execution_count": 128,
      "outputs": []
    },
    {
      "cell_type": "code",
      "source": [
        "original = df[['Date', '(Average Price)\\nRs./1000']]\n",
        "original.head\n",
        "original['Date']=pd.to_datetime(original['Date'], dayfirst=True)\n",
        "#original = original.loc[original['Date'] >= '07/05/2020']\n",
        "\n",
        "sns.lineplot(x=original['Date'], y=original['(Average Price)\\nRs./1000'])\n",
        "#sns.lineplot(x=df_forecast['Date'], y=df_forecast['(Average Price)\\nRs./1000'])"
      ],
      "metadata": {
        "colab": {
          "base_uri": "https://localhost:8080/",
          "height": 571
        },
        "id": "hH74Wg0Bgs6S",
        "outputId": "1b721e8c-c741-44da-fa42-084407c76d0d"
      },
      "execution_count": 129,
      "outputs": [
        {
          "output_type": "stream",
          "name": "stderr",
          "text": [
            "<ipython-input-129-c6906e4c13c6>:3: SettingWithCopyWarning: \n",
            "A value is trying to be set on a copy of a slice from a DataFrame.\n",
            "Try using .loc[row_indexer,col_indexer] = value instead\n",
            "\n",
            "See the caveats in the documentation: https://pandas.pydata.org/pandas-docs/stable/user_guide/indexing.html#returning-a-view-versus-a-copy\n",
            "  original['Date']=pd.to_datetime(original['Date'], dayfirst=True)\n"
          ]
        },
        {
          "output_type": "execute_result",
          "data": {
            "text/plain": [
              "<Axes: xlabel='Date', ylabel='(Average Price)\\nRs./1000'>"
            ]
          },
          "metadata": {},
          "execution_count": 129
        },
        {
          "output_type": "display_data",
          "data": {
            "text/plain": [
              "<Figure size 640x480 with 1 Axes>"
            ],
            "image/png": "[encoded data removed]"
          },
          "metadata": {}
        }
      ]
    }
  ]
}