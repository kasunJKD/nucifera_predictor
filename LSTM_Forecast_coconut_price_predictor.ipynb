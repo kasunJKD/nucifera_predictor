{
  "nbformat": 4,
  "nbformat_minor": 0,
  "metadata": {
    "colab": {
      "provenance": [],
      "authorship_tag": "ABX9TyNAqPs9dlw+TUYMfidPHakS",
      "include_colab_link": true
    },
    "kernelspec": {
      "name": "python3",
      "display_name": "Python 3"
    },
    "language_info": {
      "name": "python"
    }
  },
  "cells": [
    {
      "cell_type": "markdown",
      "metadata": {
        "id": "view-in-github",
        "colab_type": "text"
      },
      "source": [
        "<a href=\"https://colab.research.google.com/github/kasunJKD/nucifera_predictor/blob/main/LSTM_Forecast_coconut_price_predictor.ipynb\" target=\"_parent\"><img src=\"https://colab.research.google.com/assets/colab-badge.svg\" alt=\"Open In Colab\"/></a>"
      ]
    },
    {
      "cell_type": "code",
      "execution_count": 63,
      "metadata": {
        "id": "kl9SJWss92Co"
      },
      "outputs": [],
      "source": [
        "import pandas as pd   \n",
        "from sklearn.preprocessing import StandardScaler"
      ]
    },
    {
      "cell_type": "code",
      "source": [
        "df = pd.read_csv('Cleaned gathered data - Sheet1 (1).csv',  thousands=',')"
      ],
      "metadata": {
        "id": "-oCud5b6-sQ7"
      },
      "execution_count": 64,
      "outputs": []
    },
    {
      "cell_type": "code",
      "source": [
        "pd.to_datetime(df['Date'], dayfirst=True)\n",
        "df.set_index('Date', inplace=True)\n"
      ],
      "metadata": {
        "id": "FMwNwlOQNrog"
      },
      "execution_count": 65,
      "outputs": []
    },
    {
      "cell_type": "code",
      "source": [
        "df_monthly_count = df.groupby([pd.DatetimeIndex(df.index).year, pd.DatetimeIndex(df.index).month]).size()\n",
        "\n",
        "df_monthly_count.head"
      ],
      "metadata": {
        "colab": {
          "base_uri": "https://localhost:8080/"
        },
        "id": "--YnpNgZTlLR",
        "outputId": "78bbdecb-8685-44fd-907a-b80fcc1f08e3"
      },
      "execution_count": 70,
      "outputs": [
        {
          "output_type": "stream",
          "name": "stderr",
          "text": [
            "<ipython-input-70-7752d1093666>:1: UserWarning: Parsing dates in DD/MM/YYYY format when dayfirst=False (the default) was specified. This may lead to inconsistently parsed dates! Specify a format to ensure consistent parsing.\n",
            "  df_monthly_count = df.groupby([pd.DatetimeIndex(df.index).month]).size()\n"
          ]
        },
        {
          "output_type": "execute_result",
          "data": {
            "text/plain": [
              "<bound method NDFrame.head of Date\n",
              "1     12\n",
              "2     16\n",
              "3     16\n",
              "4     11\n",
              "5     23\n",
              "6     16\n",
              "7     17\n",
              "8     13\n",
              "9     21\n",
              "10    15\n",
              "11     9\n",
              "12     9\n",
              "dtype: int64>"
            ]
          },
          "metadata": {},
          "execution_count": 70
        }
      ]
    },
    {
      "cell_type": "code",
      "source": [
        "train_dates = pd.to_datetime(df['Date'], dayfirst=True)\n"
      ],
      "metadata": {
        "id": "2q80c-Gl_WMs"
      },
      "execution_count": null,
      "outputs": []
    },
    {
      "cell_type": "code",
      "source": [
        "#variables for training \n",
        "colv = list(df)[1:5]\n",
        "colv"
      ],
      "metadata": {
        "id": "FdWQ-U9RARHI"
      },
      "execution_count": null,
      "outputs": []
    },
    {
      "cell_type": "code",
      "source": [
        "df_for_training = df[colv].astype(float)\n",
        "df_for_training.head"
      ],
      "metadata": {
        "id": "aZskOxbdEruN"
      },
      "execution_count": null,
      "outputs": []
    },
    {
      "cell_type": "code",
      "source": [
        "scaler = StandardScaler()\n",
        "scaler = scaler.fit(df_for_training)\n",
        "df_for_training_scaled = scaler.transform(df_for_training)"
      ],
      "metadata": {
        "id": "6csUm_i5F8Yz"
      },
      "execution_count": null,
      "outputs": []
    }
  ]
}